{
 "cells": [
  {
   "cell_type": "markdown",
   "metadata": {},
   "source": [
    "# Introduction/Business Problem section"
   ]
  },
  {
   "cell_type": "markdown",
   "metadata": {},
   "source": [
    "I am doing business in Japan and trying to create a new branch office in Japan.\n",
    "However, I am not familiar with Japan and I do not know how many people live in what region.\n",
    "I need a tool to understand demographics accurately and intuitively.\n",
    "It was thought that accurate and useful information could be obtained by dividing the data into clusters for each region and population using the above data and displaying them on a map."
   ]
  },
  {
   "cell_type": "markdown",
   "metadata": {},
   "source": [
    "# Data section"
   ]
  },
  {
   "cell_type": "markdown",
   "metadata": {},
   "source": [
    "I decided to use e-Stat data.\n",
    "The “Government Statistics General Information (e-Stat)” is a portal site for government statistics with various functions, including statistical data released by each ministry and agency, and including statistical data search. It is possible to download the statistical table published by each ministry in Excel, CSV, PDF format."
   ]
  },
  {
   "cell_type": "code",
   "execution_count": 5,
   "metadata": {},
   "outputs": [
    {
     "data": {
      "text/plain": [
       "<folium.plugins.heat_map.HeatMap at 0x110046f28>"
      ]
     },
     "execution_count": 5,
     "metadata": {},
     "output_type": "execute_result"
    }
   ],
   "source": [
    "import geocoder\n",
    "import folium\n",
    "from folium.plugins import HeatMap\n",
    " \n",
    "prefucture = [\n",
    "\"北海道\",\"青森県\",\"岩手県\",\"宮城県\",\"秋田県\",\"山形県\",\"福島県\",\"茨木県\",\"栃木県\",\"群馬県\",\n",
    "\"埼玉県\",\"千葉県\",\"東京都\",\"神奈川県\",\"新潟県\",\"富山県\",\"石川県\",\"福井県\",\"山梨県\",\n",
    "\"長野県\",\"岐阜県\",\"静岡県\",\"愛知県\",\"三重県\",\"滋賀県\",\"京都府\",\"大阪府\",\"兵庫県\",\"奈良県\",\n",
    "\"和歌山県\",\"鳥取県\",\"島根県\",\"岡山県\",\"広島県\",\"山口県\",\"徳島県\",\"香川県\",\"愛媛県\",\"高知県\",\n",
    "\"福岡県\",\"佐賀県\",\"長崎県\",\"熊本県\",\"大分県\",\"宮崎県\",\"鹿児島県\",\"沖縄県\"\n",
    "]\n",
    "japan = geocoder.arcgis('日本')\n",
    "japan = japan.latlng\n",
    "prefecture_list = []\n",
    "for p in prefucture:\n",
    "    g = geocoder.arcgis(p)\n",
    "    prefecture_list.append(g.latlng)\n",
    "\n",
    "map = folium.Map(japan)\n",
    "HeatMap(prefecture_list).add_to(map)"
   ]
  },
  {
   "cell_type": "code",
   "execution_count": 4,
   "metadata": {},
   "outputs": [
    {
     "data": {
      "text/html": [
       "<div style=\"width:100%;\"><div style=\"position:relative;width:100%;height:0;padding-bottom:60%;\"><iframe src=\"data:text/html;charset=utf-8;base64,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\" style=\"position:absolute;width:100%;height:100%;left:0;top:0;border:none !important;\" allowfullscreen webkitallowfullscreen mozallowfullscreen></iframe></div></div>"
      ],
      "text/plain": [
       "<folium.folium.Map at 0x110025e48>"
      ]
     },
     "execution_count": 4,
     "metadata": {},
     "output_type": "execute_result"
    }
   ],
   "source": [
    "map"
   ]
  },
  {
   "cell_type": "markdown",
   "metadata": {},
   "source": [
    "You can zoom in and out freely, so please move it.\n",
    "In Japan, there is a city called \"designated city\", and it was found that the population is concentrated there.\n",
    "I knew only Tokyo, but I could easily understand that Saitama and Chiba are attractive cities."
   ]
  }
 ],
 "metadata": {
  "kernelspec": {
   "display_name": "Python 3",
   "language": "python",
   "name": "python3"
  },
  "language_info": {
   "codemirror_mode": {
    "name": "ipython",
    "version": 3
   },
   "file_extension": ".py",
   "mimetype": "text/x-python",
   "name": "python",
   "nbconvert_exporter": "python",
   "pygments_lexer": "ipython3",
   "version": "3.6.5"
  },
  "varInspector": {
   "cols": {
    "lenName": 16,
    "lenType": 16,
    "lenVar": 40
   },
   "kernels_config": {
    "python": {
     "delete_cmd_postfix": "",
     "delete_cmd_prefix": "del ",
     "library": "var_list.py",
     "varRefreshCmd": "print(var_dic_list())"
    },
    "r": {
     "delete_cmd_postfix": ") ",
     "delete_cmd_prefix": "rm(",
     "library": "var_list.r",
     "varRefreshCmd": "cat(var_dic_list()) "
    }
   },
   "types_to_exclude": [
    "module",
    "function",
    "builtin_function_or_method",
    "instance",
    "_Feature"
   ],
   "window_display": false
  }
 },
 "nbformat": 4,
 "nbformat_minor": 2
}
